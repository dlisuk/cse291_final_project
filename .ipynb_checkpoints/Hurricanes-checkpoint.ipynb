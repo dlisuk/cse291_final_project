{
 "metadata": {
  "name": "",
  "signature": "sha256:f0b21267d91010c5096726e490fbbfbb8333a85a52af6563cfd20314f75c49c4"
 },
 "nbformat": 3,
 "nbformat_minor": 0,
 "worksheets": [
  {
   "cells": [
    {
     "cell_type": "code",
     "collapsed": false,
     "input": [
      "import pandas as pd\n",
      "import datetime\n",
      "from dateutil.parser import parse\n",
      "from dateutil.relativedelta import relativedelta"
     ],
     "language": "python",
     "metadata": {},
     "outputs": [],
     "prompt_number": 1
    },
    {
     "cell_type": "code",
     "collapsed": false,
     "input": [
      "hurricanes = pd.DataFrame.from_csv('all_hurricane_data',index_col=False,parse_dates={\"DATETIME\":[5]},infer_datetime_format=True)"
     ],
     "language": "python",
     "metadata": {},
     "outputs": [],
     "prompt_number": 3
    },
    {
     "cell_type": "code",
     "collapsed": false,
     "input": [
      "hurricanes.head()"
     ],
     "language": "python",
     "metadata": {},
     "outputs": [
      {
       "html": [
        "<div style=\"max-height:1000px;max-width:1500px;overflow:auto;\">\n",
        "<table border=\"1\" class=\"dataframe\">\n",
        "  <thead>\n",
        "    <tr style=\"text-align: right;\">\n",
        "      <th></th>\n",
        "      <th>DATETIME</th>\n",
        "      <th>STATION_NAME</th>\n",
        "      <th>STATION</th>\n",
        "      <th>STATE</th>\n",
        "      <th>LATITUDE</th>\n",
        "      <th>LONGITUDE</th>\n",
        "      <th>WDSP</th>\n",
        "      <th>MXSPD</th>\n",
        "      <th>GUST</th>\n",
        "    </tr>\n",
        "  </thead>\n",
        "  <tbody>\n",
        "    <tr>\n",
        "      <th>0</th>\n",
        "      <td>1996-07-07</td>\n",
        "      <td>    MCALESTER MUNICIPAL AP</td>\n",
        "      <td> 723566</td>\n",
        "      <td> OK</td>\n",
        "      <td> 34.899</td>\n",
        "      <td> -95.783</td>\n",
        "      <td> 0</td>\n",
        "      <td> 49.0</td>\n",
        "      <td>  0.0</td>\n",
        "    </tr>\n",
        "    <tr>\n",
        "      <th>1</th>\n",
        "      <td>2003-07-09</td>\n",
        "      <td> CASPER NATRONA CO INTL AP</td>\n",
        "      <td> 725690</td>\n",
        "      <td> WY</td>\n",
        "      <td> 42.898</td>\n",
        "      <td>-106.473</td>\n",
        "      <td> 0</td>\n",
        "      <td> 35.9</td>\n",
        "      <td> 42.0</td>\n",
        "    </tr>\n",
        "    <tr>\n",
        "      <th>2</th>\n",
        "      <td>2003-07-09</td>\n",
        "      <td> CASPER NATRONA CO INTL AP</td>\n",
        "      <td> 725690</td>\n",
        "      <td> WY</td>\n",
        "      <td> 42.898</td>\n",
        "      <td>-106.473</td>\n",
        "      <td> 0</td>\n",
        "      <td> 35.9</td>\n",
        "      <td> 42.0</td>\n",
        "    </tr>\n",
        "    <tr>\n",
        "      <th>3</th>\n",
        "      <td>2003-12-15</td>\n",
        "      <td> CASPER NATRONA CO INTL AP</td>\n",
        "      <td> 725690</td>\n",
        "      <td> WY</td>\n",
        "      <td> 42.898</td>\n",
        "      <td>-106.473</td>\n",
        "      <td> 0</td>\n",
        "      <td> 38.1</td>\n",
        "      <td> 42.0</td>\n",
        "    </tr>\n",
        "    <tr>\n",
        "      <th>4</th>\n",
        "      <td>2003-11-25</td>\n",
        "      <td> CASPER NATRONA CO INTL AP</td>\n",
        "      <td> 725690</td>\n",
        "      <td> WY</td>\n",
        "      <td> 42.898</td>\n",
        "      <td>-106.473</td>\n",
        "      <td> 0</td>\n",
        "      <td> 38.1</td>\n",
        "      <td> 49.9</td>\n",
        "    </tr>\n",
        "  </tbody>\n",
        "</table>\n",
        "<p>5 rows \u00d7 9 columns</p>\n",
        "</div>"
       ],
       "metadata": {},
       "output_type": "pyout",
       "prompt_number": 24,
       "text": [
        "    DATETIME               STATION_NAME  STATION STATE  LATITUDE  LONGITUDE  \\\n",
        "0 1996-07-07     MCALESTER MUNICIPAL AP   723566    OK    34.899    -95.783   \n",
        "1 2003-07-09  CASPER NATRONA CO INTL AP   725690    WY    42.898   -106.473   \n",
        "2 2003-07-09  CASPER NATRONA CO INTL AP   725690    WY    42.898   -106.473   \n",
        "3 2003-12-15  CASPER NATRONA CO INTL AP   725690    WY    42.898   -106.473   \n",
        "4 2003-11-25  CASPER NATRONA CO INTL AP   725690    WY    42.898   -106.473   \n",
        "\n",
        "   WDSP  MXSPD  GUST  \n",
        "0     0   49.0   0.0  \n",
        "1     0   35.9  42.0  \n",
        "2     0   35.9  42.0  \n",
        "3     0   38.1  42.0  \n",
        "4     0   38.1  49.9  \n",
        "\n",
        "[5 rows x 9 columns]"
       ]
      }
     ],
     "prompt_number": 24
    },
    {
     "cell_type": "markdown",
     "metadata": {},
     "source": [
      "## Disribution of hurricanes based on Saffir-Simpson Hurricane Wind Scale\n",
      "\n",
      "Check http://en.wikipedia.org/wiki/Saffir\u2013Simpson_hurricane_wind_scale"
     ]
    },
    {
     "cell_type": "code",
     "collapsed": false,
     "input": [
      "hypothesis_fields=['WDSP','MXSPD','GUST']\n",
      "for hypothesis_field in hypothesis_fields:\n",
      "    print \"Predicting hurricanes based on %s\"%hypothesis_field\n",
      "    print \"Tropical Storm:\",len(hurricanes[hurricanes[hypothesis_field]>35][hurricanes[hypothesis_field]<63])\n",
      "    print \"Category 1 hurricane:\",len(hurricanes[hurricanes[hypothesis_field]>63][hurricanes[hypothesis_field]<82])\n",
      "    print \"Category 2 hurricane:\",len(hurricanes[hurricanes[hypothesis_field]>82][hurricanes[hypothesis_field]<95])\n",
      "    print \"Category 3 hurricane:\",len(hurricanes[hurricanes[hypothesis_field]>95][hurricanes[hypothesis_field]<112])\n",
      "    print \"Category 4 hurricane:\",len(hurricanes[hurricanes[hypothesis_field]>112][hurricanes[hypothesis_field]<136])\n",
      "    print \"Category 5 hurricane:\",len(hurricanes[hurricanes[hypothesis_field]>136])\n",
      "    print ''"
     ],
     "language": "python",
     "metadata": {},
     "outputs": [
      {
       "output_type": "stream",
       "stream": "stdout",
       "text": [
        "Predicting hurricanes based on WDSP\n",
        "Tropical Storm: 27047\n",
        "Category 1 hurricane: 1108\n",
        "Category 2 hurricane: 40\n",
        "Category 3 hurricane: 0\n",
        "Category 4 hurricane: 0\n",
        "Category 5 hurricane: 0\n",
        "\n",
        "Predicting hurricanes based on MXSPD\n",
        "Tropical Storm: "
       ]
      },
      {
       "output_type": "stream",
       "stream": "stdout",
       "text": [
        "164686\n",
        "Category 1 hurricane: 6723\n",
        "Category 2 hurricane: 949\n",
        "Category 3 hurricane: 89\n",
        "Category 4 hurricane: 0\n",
        "Category 5 hurricane: 0\n",
        "\n",
        "Predicting hurricanes based on GUST\n",
        "Tropical Storm: 78235\n",
        "Category 1 hurricane: 9856\n",
        "Category 2 hurricane: 1998\n",
        "Category 3 hurricane: 887\n",
        "Category 4 hurricane: "
       ]
      },
      {
       "output_type": "stream",
       "stream": "stdout",
       "text": [
        "153\n",
        "Category 5 hurricane: 0\n",
        "\n"
       ]
      }
     ],
     "prompt_number": 75
    },
    {
     "cell_type": "markdown",
     "metadata": {},
     "source": [
      "As per the wikipedia entry, the scale is based on sustained wind speeds.\n",
      "Therefore, MXSPD is the more appropriate measurement to do this."
     ]
    },
    {
     "cell_type": "markdown",
     "metadata": {},
     "source": [
      "## Distribution of Tropical Storms based on time"
     ]
    },
    {
     "cell_type": "code",
     "collapsed": false,
     "input": [
      "hypothesis_field='MXSPD'\n",
      "start=1925\n",
      "delta=5\n",
      "print \"Start\\tEnd\\tCount\"\n",
      "temp_df = hurricanes[hurricanes[hypothesis_field]>35][hurricanes[hypothesis_field]<63]\n",
      "for i in range((2005-start)/delta):\n",
      "    start = start + delta\n",
      "    end = start + delta\n",
      "    n = len(temp_df[temp_df['DATETIME']>parse('%d-01-01'%start)][temp_df['DATETIME']<(parse('%d-01-01'%end))])\n",
      "    print \"%d\\t%d\\t%d\"%(start,end,n)"
     ],
     "language": "python",
     "metadata": {},
     "outputs": [
      {
       "output_type": "stream",
       "stream": "stdout",
       "text": [
        "Start\tEnd\tCount\n",
        "1930\t1935\t3\n",
        "1935\t1940\t168\n",
        "1940\t1945\t2472"
       ]
      },
      {
       "output_type": "stream",
       "stream": "stdout",
       "text": [
        "\n",
        "1945\t1950\t8531\n",
        "1950\t1955\t11274"
       ]
      },
      {
       "output_type": "stream",
       "stream": "stdout",
       "text": [
        "\n",
        "1955\t1960\t7140\n",
        "1960\t1965\t5729\n",
        "1965\t1970\t3771"
       ]
      },
      {
       "output_type": "stream",
       "stream": "stdout",
       "text": [
        "\n",
        "1970\t1975\t6279\n",
        "1975\t1980\t13817\n",
        "1980\t1985\t11657"
       ]
      },
      {
       "output_type": "stream",
       "stream": "stdout",
       "text": [
        "\n",
        "1985\t1990\t14274\n",
        "1990\t1995\t15221\n",
        "1995\t2000\t15627"
       ]
      },
      {
       "output_type": "stream",
       "stream": "stdout",
       "text": [
        "\n",
        "2000\t2005\t26695\n",
        "2005\t2010\t29826\n"
       ]
      }
     ],
     "prompt_number": 77
    },
    {
     "cell_type": "markdown",
     "metadata": {},
     "source": [
      "## Distribution of Category 1 hurricanes over time"
     ]
    },
    {
     "cell_type": "code",
     "collapsed": false,
     "input": [
      "hypothesis_field='MXSPD'\n",
      "start=1925\n",
      "delta=5\n",
      "print \"Start\\tEnd\\tCount\"\n",
      "temp_df = hurricanes[hurricanes[hypothesis_field]>63][hurricanes[hypothesis_field]<82]\n",
      "for i in range((2005-start)/delta):\n",
      "    start = start + delta\n",
      "    end = start + delta\n",
      "    n = len(temp_df[temp_df['DATETIME']>parse('%d-01-01'%start)][temp_df['DATETIME']<(parse('%d-01-01'%end))])\n",
      "    print \"%d\\t%d\\t%d\"%(start,end,n)"
     ],
     "language": "python",
     "metadata": {},
     "outputs": [
      {
       "output_type": "stream",
       "stream": "stdout",
       "text": [
        "Start\tEnd\tCount\n",
        "1930\t1935\t0\n",
        "1935\t1940\t0\n",
        "1940\t1945\t6\n",
        "1945\t1950\t146\n",
        "1950\t1955\t87\n",
        "1955\t1960\t96\n",
        "1960\t1965\t106\n",
        "1965\t1970\t55\n",
        "1970\t1975\t283\n",
        "1975\t1980\t512\n",
        "1980\t1985\t705\n",
        "1985\t1990\t769\n",
        "1990\t1995\t557\n",
        "1995\t2000\t701\n",
        "2000\t2005\t1741\n",
        "2005\t2010\t954\n"
       ]
      }
     ],
     "prompt_number": 78
    },
    {
     "cell_type": "markdown",
     "metadata": {},
     "source": [
      "## Distribution of Category 2 hurricanes over time"
     ]
    },
    {
     "cell_type": "code",
     "collapsed": false,
     "input": [
      "hypothesis_field='MXSPD'\n",
      "start=1925\n",
      "delta=5\n",
      "print \"Start\\tEnd\\tCount\"\n",
      "temp_df = hurricanes[hurricanes[hypothesis_field]>82][hurricanes[hypothesis_field]<95]\n",
      "for i in range((2005-start)/delta):\n",
      "    start = start + delta\n",
      "    end = start + delta\n",
      "    n = len(temp_df[temp_df['DATETIME']>parse('%d-01-01'%start)][temp_df['DATETIME']<(parse('%d-01-01'%end))])\n",
      "    print \"%d\\t%d\\t%d\"%(start,end,n)"
     ],
     "language": "python",
     "metadata": {},
     "outputs": [
      {
       "output_type": "stream",
       "stream": "stdout",
       "text": [
        "Start\tEnd\tCount\n",
        "1930\t1935\t0\n",
        "1935\t1940\t0\n",
        "1940\t1945\t0\n",
        "1945\t1950\t10\n",
        "1950\t1955\t0\n",
        "1955\t1960\t6\n",
        "1960\t1965\t4\n",
        "1965\t1970\t8\n",
        "1970\t1975\t18\n",
        "1975\t1980\t64\n",
        "1980\t1985\t124\n",
        "1985\t1990\t147\n",
        "1990\t1995\t120\n",
        "1995\t2000\t145\n",
        "2000\t2005\t184\n",
        "2005\t2010\t119\n"
       ]
      }
     ],
     "prompt_number": 79
    },
    {
     "cell_type": "markdown",
     "metadata": {},
     "source": [
      "## Distribution of Category 3 hurricanes over time"
     ]
    },
    {
     "cell_type": "code",
     "collapsed": false,
     "input": [
      "hypothesis_field='MXSPD'\n",
      "start=1925\n",
      "delta=5\n",
      "print \"Start\\tEnd\\tCount\"\n",
      "temp_df = hurricanes[hurricanes[hypothesis_field]>95][hurricanes[hypothesis_field]<112]\n",
      "for i in range((2005-start)/delta):\n",
      "    start = start + delta\n",
      "    end = start + delta\n",
      "    n = len(temp_df[temp_df['DATETIME']>parse('%d-01-01'%start)][temp_df['DATETIME']<(parse('%d-01-01'%end))])\n",
      "    print \"%d\\t%d\\t%d\"%(start,end,n)"
     ],
     "language": "python",
     "metadata": {},
     "outputs": [
      {
       "output_type": "stream",
       "stream": "stdout",
       "text": [
        "Start\tEnd\tCount\n",
        "1930\t1935\t0\n",
        "1935\t1940\t0\n",
        "1940\t1945\t0\n",
        "1945\t1950\t0\n",
        "1950\t1955\t0\n",
        "1955\t1960\t0\n",
        "1960\t1965\t2\n",
        "1965\t1970\t0\n",
        "1970\t1975\t0\n",
        "1975\t1980\t0\n",
        "1980\t1985\t3\n",
        "1985\t1990\t6\n",
        "1990\t1995\t12\n",
        "1995\t2000\t14\n",
        "2000\t2005\t32\n",
        "2005\t2010\t20\n"
       ]
      }
     ],
     "prompt_number": 82
    },
    {
     "cell_type": "code",
     "collapsed": false,
     "input": [],
     "language": "python",
     "metadata": {},
     "outputs": []
    }
   ],
   "metadata": {}
  }
 ]
}