{
 "metadata": {
  "name": "",
  "signature": "sha256:8ad5cee7f02744bba5df67675928104ff2259a21b17a8547725de270803e04d0"
 },
 "nbformat": 3,
 "nbformat_minor": 0,
 "worksheets": [
  {
   "cells": [
    {
     "cell_type": "markdown",
     "metadata": {},
     "source": [
      "#Detecting Hurricanes\n",
      "##_291 Big Data Analytics - Final project_\n",
      "_by Suvir Jain, David Lisuk and Helge Munk Jacobsen_"
     ]
    },
    {
     "cell_type": "markdown",
     "metadata": {},
     "source": [
      "In this notebook we\n",
      "* make a quantitative analysis of the [NCDC weather data](http://www.ncdc.noaa.gov/cgi-bin/res40.pl)\n",
      "* model the data using PCAs on areas that have similar patterns\n",
      "* TODO: hurricanes"
     ]
    },
    {
     "cell_type": "markdown",
     "metadata": {},
     "source": [
      "## Exploratory analysis"
     ]
    }
   ],
   "metadata": {}
  }
 ]
}