{
 "metadata": {
  "name": "",
  "signature": "sha256:5008161cfe1a8adfd1ae711c9b7c23ddb07382bd4bdf0d50cfcfe300d93cf4ea"
 },
 "nbformat": 3,
 "nbformat_minor": 0,
 "worksheets": [
  {
   "cells": [
    {
     "cell_type": "markdown",
     "metadata": {},
     "source": [
      "#PCA on NCDC Dataset\n",
      "Here we consume the yearly vectors produced by our large map reduce jobs and run basic PCA's."
     ]
    },
    {
     "cell_type": "code",
     "collapsed": false,
     "input": [
      "#big data imports\n",
      "import sys\n",
      "home_dir='/home/ubuntu/UCSD_BigData'\n",
      "sys.path.append(home_dir+'/utils')\n",
      "from find_waiting_flow import *\n",
      "from AWS_keypair_management import *\n",
      "\n",
      "#Standard imports\n",
      "import pickle\n",
      "import pandas as pd\n",
      "import numpy as np\n",
      "import sklearn as sk\n",
      "import matplotlib.pyplot as plt\n",
      "from pandas.tools import rplot\n",
      "import re\n",
      "import zlib\n",
      "import base64 \n",
      "local_data='mr_output/raw_256_vectors'"
     ],
     "language": "python",
     "metadata": {},
     "outputs": []
    },
    {
     "cell_type": "code",
     "collapsed": false,
     "input": [
      "#Setup for map reduce jobs\n",
      "Creds= pickle.load(open('/home/ubuntu/Vault/Creds.pkl','rb'))\n",
      "print Creds.keys()\n",
      "print Creds['mrjob'].keys()\n",
      "pair=Creds['mrjob']\n",
      "key_id=pair['key_id']\n",
      "secret_key=pair['secret_key']\n",
      "ID=pair['ID']\n",
      "print \"Logged in as: \" + ID\n"
     ],
     "language": "python",
     "metadata": {},
     "outputs": []
    },
    {
     "cell_type": "code",
     "collapsed": false,
     "input": [
      "#Provided by prof freund\n",
      "def loads(eVal):\n",
      "    return pickle.loads(zlib.decompress(base64.b64decode(eVal)))\n",
      "def dumps(Value):\n",
      "    return base64.b64encode(zlib.compress(pickle.dumps(Value),9))\n",
      "\n"
     ],
     "language": "python",
     "metadata": {},
     "outputs": [],
     "prompt_number": 37
    },
    {
     "cell_type": "markdown",
     "metadata": {},
     "source": [
      "##Data Loading\n",
      "First we need to figure out how to extract the vector from the data file."
     ]
    },
    {
     "cell_type": "code",
     "collapsed": false,
     "input": [
      "f = open(local_data,\"r\")\n",
      "line = f.next()\n",
      "f.close()\n",
      "line[0:20] + \"...\" + line[-20:] "
     ],
     "language": "python",
     "metadata": {},
     "outputs": [
      {
       "metadata": {},
       "output_type": "pyout",
       "prompt_number": 43,
       "text": [
        "'\"010010:1989\"\\t\"eNpde...8k8cf5lvnv/w8UCCK5\"\\n'"
       ]
      }
     ],
     "prompt_number": 43
    },
    {
     "cell_type": "markdown",
     "metadata": {},
     "source": [
      "From here we see the lines of data are \"<STATION ID>:YYYY\"\\t\"<ENCODED DATA>\", below we demonstrate code that will extract the three fields using regular expression and then analyze then we load the "
     ]
    },
    {
     "cell_type": "code",
     "collapsed": false,
     "input": [
      "pat = re.compile('\"(\\d*):(\\d\\d\\d\\d)\"\\t\"(.*)\"$')\n",
      "mat = pat.match(line.strip())\n",
      "mat.groups()\n",
      "station, year, vec = mat.groups()\n",
      "year = int(year)\n",
      "vec  = loads(vec)\n",
      "(station,year,len(vec),vec[0:10])"
     ],
     "language": "python",
     "metadata": {},
     "outputs": [
      {
       "metadata": {},
       "output_type": "pyout",
       "prompt_number": 72,
       "text": [
        "('010010',\n",
        " 1989,\n",
        " 1830,\n",
        " [nan, '37.4', '31.3', '27.3', '32.5', '33.8', '26.4', '14.0', '32.0', '27.7'])"
       ]
      }
     ],
     "prompt_number": 72
    },
    {
     "cell_type": "markdown",
     "metadata": {},
     "source": [
      "Here we see that the vector has 5 year long vectors (365*5=1830).\n",
      "The vectors are made by concatenating 5 of the measurement vectors in this order: [TMAX TMIN TMEAN PRCP SNDP]\n",
      "\n",
      "One interesting thing is that vec is mostly strings rather than floats it looks like, lets try to convert it into a float list."
     ]
    },
    {
     "cell_type": "code",
     "collapsed": false,
     "input": [
      "vec = [float(x) for x in vec]"
     ],
     "language": "python",
     "metadata": {},
     "outputs": [
      {
       "ename": "ValueError",
       "evalue": "invalid literal for float(): 0.20E",
       "output_type": "pyerr",
       "traceback": [
        "\u001b[1;31m---------------------------------------------------------------------------\u001b[0m\n\u001b[1;31mValueError\u001b[0m                                Traceback (most recent call last)",
        "\u001b[1;32m<ipython-input-73-b34324a8b8b8>\u001b[0m in \u001b[0;36m<module>\u001b[1;34m()\u001b[0m\n\u001b[1;32m----> 1\u001b[1;33m \u001b[0mvec\u001b[0m \u001b[1;33m=\u001b[0m \u001b[1;33m[\u001b[0m\u001b[0mfloat\u001b[0m\u001b[1;33m(\u001b[0m\u001b[0mx\u001b[0m\u001b[1;33m)\u001b[0m \u001b[1;32mfor\u001b[0m \u001b[0mx\u001b[0m \u001b[1;32min\u001b[0m \u001b[0mvec\u001b[0m\u001b[1;33m]\u001b[0m\u001b[1;33m\u001b[0m\u001b[0m\n\u001b[0m",
        "\u001b[1;31mValueError\u001b[0m: invalid literal for float(): 0.20E"
       ]
      }
     ],
     "prompt_number": 73
    },
    {
     "cell_type": "markdown",
     "metadata": {},
     "source": [
      "Apparenlty the flag fields have not be beprocessed.  Simultaneously Suvir informed me that the missing data (999.99 etc) has not been removed.  Since the missing data value is differetn for PRCP,TEMP, and SNWD, we need to do different values for each of them.  At this point it makes the most sense to seperate them into 5 seperate vectors.\n"
     ]
    },
    {
     "cell_type": "code",
     "collapsed": false,
     "input": [
      "tmax, tmin, tmean, prcp, sndp = vec[0:365],vec[365:2*364],vec[2*365:3*364],vec[3*365:4*364],vec[4*365:5*364]"
     ],
     "language": "python",
     "metadata": {},
     "outputs": [],
     "prompt_number": 80
    },
    {
     "cell_type": "markdown",
     "metadata": {},
     "source": [
      "Now we write a function that will read floating points from strings safely, removeing all flags and NANing out missing data"
     ]
    },
    {
     "cell_type": "code",
     "collapsed": false,
     "input": [
      "nan = float(\"NaN\")\n",
      "def readDouble(x,z):\n",
      "    try:\n",
      "        y = float(x)\n",
      "    except ValueError:\n",
      "        try:\n",
      "            ##In this case, we have a non, probalby there is a flag here that needs to be removed\n",
      "            y = float(x.translate(None,'ABCDEFGHI*'))\n",
      "        except ValueError:\n",
      "            ##We want to print any bad values that get to here so we can analyze further\n",
      "            print(x)\n",
      "            return nan\n",
      "    #Missing data goes to nan\n",
      "    if abs(y-z) < 0.01:\n",
      "        return nan\n",
      "    return y"
     ],
     "language": "python",
     "metadata": {},
     "outputs": [],
     "prompt_number": 146
    },
    {
     "cell_type": "code",
     "collapsed": false,
     "input": [
      "#We got these missing values from the readme file\n",
      "tmax  = [readDouble(x,9999.9) for x in tmax]\n",
      "tmin  = [readDouble(x,9999.9) for x in tmin]\n",
      "tmean = [readDouble(x,9999.9) for x in tmean]\n",
      "prcp  = [readDouble(x,99.99) for x in prcp]\n",
      "sndp  = [readDouble(x,999.9) for x in sndp]"
     ],
     "language": "python",
     "metadata": {},
     "outputs": [],
     "prompt_number": 82
    },
    {
     "cell_type": "code",
     "collapsed": false,
     "input": [
      "(sum(np.isnan(tmax)), sum(np.isnan(tmin)), sum(np.isnan(tmean)), sum(np.isnan(prcp)), sum(np.isnan(sndp)))"
     ],
     "language": "python",
     "metadata": {},
     "outputs": [
      {
       "metadata": {},
       "output_type": "pyout",
       "prompt_number": 84,
       "text": [
        "(1, 1, 1, 1, 356)"
       ]
      }
     ],
     "prompt_number": 84
    },
    {
     "cell_type": "markdown",
     "metadata": {},
     "source": [
      "Interetingly this data point is missing 1 of each entry and all of the snow depth.  This is probably a data point that has no snow ever (according to readme snow depth/perciptation are often reported as missing instead of 0).\n",
      "\n",
      "To ensure things seem reasonable, we now plot a histogram of each of these data vectors to ensure they seem reasonable"
     ]
    },
    {
     "cell_type": "code",
     "collapsed": false,
     "input": [
      "for data in [tmax,tmin,tmean,prcp]:\n",
      "#    plt.figure()\n",
      "    plt.hist(np.array(data)[np.logical_not(np.isnan(data))], bins=[-10,0,1,5,10,15,20,30,40,50,60,70])\n",
      "plt.legend([\"Tmax\",\"Tmin\",\"Tmean\",\"Prcp\"])"
     ],
     "language": "python",
     "metadata": {},
     "outputs": [
      {
       "metadata": {},
       "output_type": "pyout",
       "prompt_number": 105,
       "text": [
        "<matplotlib.legend.Legend at 0x4f47910>"
       ]
      },
      {
       "metadata": {},
       "output_type": "display_data",
       "png": "[encoded data removed]",
       "text": [
        "<matplotlib.figure.Figure at 0x53284d0>"
       ]
      }
     ],
     "prompt_number": 105
    },
    {
     "cell_type": "markdown",
     "metadata": {},
     "source": [
      "These results look like about what we'd expect a region with no snow to be (pretty warm in $^{\\circ}$C and minimal rain), so we can assume ther is no immeidate cause for alarm.\n",
      "\n",
      "At this point, we can begin building our PCA infrastructure."
     ]
    },
    {
     "cell_type": "markdown",
     "metadata": {},
     "source": [
      "##Covariance Matrix Computation\n",
      "\n",
      "To compute PCA you must take the eigen values of the covariance matrix.\n",
      "In a streaming setting, the covariance matrix is best computed via the following formula:\n",
      "$$Cov(x) = \\mathbf{E}(x\\circ x) - \\mathbf{E}(x)\\circ \\mathbf{E}(x)$$\n",
      "Here $\\circ$ denotes the outer product.\n",
      "\n",
      "Effectively we need the mean outer produce of all data vecotrs minus the outer product of hte mean of the vectors\n",
      "\n",
      "First we need to see if the outer product is computeable for a 1830 element vector in reasonable time."
     ]
    },
    {
     "cell_type": "code",
     "collapsed": false,
     "input": [
      "vec = np.matrix(tmax+tmin+tmean+sndp+prcp)\n",
      "vec.shape"
     ],
     "language": "python",
     "metadata": {},
     "outputs": [
      {
       "ename": "ValueError",
       "evalue": "operands could not be broadcast together with shapes (1,365) (1,1446) ",
       "output_type": "pyerr",
       "traceback": [
        "\u001b[1;31m---------------------------------------------------------------------------\u001b[0m\n\u001b[1;31mValueError\u001b[0m                                Traceback (most recent call last)",
        "\u001b[1;32m<ipython-input-116-5a2cb2b181a5>\u001b[0m in \u001b[0;36m<module>\u001b[1;34m()\u001b[0m\n\u001b[1;32m----> 1\u001b[1;33m \u001b[0mvec\u001b[0m \u001b[1;33m=\u001b[0m \u001b[0mnp\u001b[0m\u001b[1;33m.\u001b[0m\u001b[0mmatrix\u001b[0m\u001b[1;33m(\u001b[0m\u001b[0mtmax\u001b[0m\u001b[1;33m)\u001b[0m\u001b[1;33m+\u001b[0m\u001b[0mnp\u001b[0m\u001b[1;33m.\u001b[0m\u001b[0mmatrix\u001b[0m\u001b[1;33m(\u001b[0m\u001b[0mtmin\u001b[0m\u001b[1;33m+\u001b[0m\u001b[0mtmean\u001b[0m\u001b[1;33m+\u001b[0m\u001b[0msndp\u001b[0m\u001b[1;33m+\u001b[0m\u001b[0mprcp\u001b[0m\u001b[1;33m)\u001b[0m\u001b[1;33m\u001b[0m\u001b[0m\n\u001b[0m\u001b[0;32m      2\u001b[0m \u001b[0mvec\u001b[0m\u001b[1;33m.\u001b[0m\u001b[0mshape\u001b[0m\u001b[1;33m\u001b[0m\u001b[0m\n",
        "\u001b[1;31mValueError\u001b[0m: operands could not be broadcast together with shapes (1,365) (1,1446) "
       ]
      }
     ],
     "prompt_number": 116
    },
    {
     "cell_type": "code",
     "collapsed": false,
     "input": [
      "%%timeit\n",
      "np.outer(vec,vec)"
     ],
     "language": "python",
     "metadata": {},
     "outputs": [
      {
       "output_type": "stream",
       "stream": "stdout",
       "text": [
        "100 loops, best of 3: 8.79 ms per loop\n"
       ]
      }
     ],
     "prompt_number": 113
    },
    {
     "cell_type": "code",
     "collapsed": false,
     "input": [
      "np.outer(vec,vec).shape"
     ],
     "language": "python",
     "metadata": {},
     "outputs": [
      {
       "metadata": {},
       "output_type": "pyout",
       "prompt_number": 114,
       "text": [
        "(1811, 1811)"
       ]
      }
     ],
     "prompt_number": 114
    },
    {
     "cell_type": "code",
     "collapsed": false,
     "input": [
      "np.outer(vec,vec)"
     ],
     "language": "python",
     "metadata": {},
     "outputs": [
      {
       "metadata": {},
       "output_type": "pyout",
       "prompt_number": 115,
       "text": [
        "array([[             nan,              nan,              nan, ...,\n",
        "                     nan,              nan,              nan],\n",
        "       [             nan,   1.39876000e+03,   1.17062000e+03, ...,\n",
        "          2.99200000e+00,   0.00000000e+00,   0.00000000e+00],\n",
        "       [             nan,   1.17062000e+03,   9.79690000e+02, ...,\n",
        "          2.50400000e+00,   0.00000000e+00,   0.00000000e+00],\n",
        "       ..., \n",
        "       [             nan,   2.99200000e+00,   2.50400000e+00, ...,\n",
        "          6.40000000e-03,   0.00000000e+00,   0.00000000e+00],\n",
        "       [             nan,   0.00000000e+00,   0.00000000e+00, ...,\n",
        "          0.00000000e+00,   0.00000000e+00,   0.00000000e+00],\n",
        "       [             nan,   0.00000000e+00,   0.00000000e+00, ...,\n",
        "          0.00000000e+00,   0.00000000e+00,   0.00000000e+00]])"
       ]
      }
     ],
     "prompt_number": 115
    },
    {
     "cell_type": "markdown",
     "metadata": {},
     "source": [
      "It looks like the outer product is computeable so we might as well use this whole matrix in our job.\n",
      "\n",
      "However, as we can see, all NaN values lead to problems.  We need to apply infilling to our data sets.  Based on the readme, we believe two distinct infills are needed:\n",
      "1. set PRCP/SNDP to 0 on NAN days\n",
      "2. use linear interpolation on temperatures\n",
      "\n",
      "Additionally, if < half hte days of any tempreature measurement are nan we should discard.\n",
      "\n",
      "Here we construct our infilling function (adopted from David's HW2)."
     ]
    },
    {
     "cell_type": "code",
     "collapsed": false,
     "input": [
      "def infill(tmean,tmax,tmin,prcp,sndp):\n",
      "    eject = False\n",
      "    out = []\n",
      "    for temp in [tmean,tmax,tmin]:\n",
      "        temp=np.array(temp)\n",
      "        bad_indexes = np.isnan(temp)\n",
      "        good_indexes = np.logical_not(bad_indexes)\n",
      "        good_data = temp[good_indexes]\n",
      "        interpolated = np.interp(bad_indexes.nonzero()[0], good_indexes.nonzero()[0], good_data)\n",
      "        temp[bad_indexes] = interpolated\n",
      "        out.append(temp.tolist())\n",
      "    for data in [prcp,sndp]:\n",
      "        data = np.array(data)\n",
      "        bad_indexes = np.isnan(data)\n",
      "        data[bad_indexes] = 0\n",
      "        out.append(data.tolist())\n",
      "    return sum(out)\n"
     ],
     "language": "python",
     "metadata": {},
     "outputs": [],
     "prompt_number": 138
    },
    {
     "cell_type": "code",
     "collapsed": false,
     "input": [
      "vec = infill(tmean,tmax,tmin,prcp,sndp)\n",
      "(len(vec), sum(np.isnan(vec)))"
     ],
     "language": "python",
     "metadata": {},
     "outputs": [
      {
       "metadata": {},
       "output_type": "pyout",
       "prompt_number": 139,
       "text": [
        "(1811, 0)"
       ]
      }
     ],
     "prompt_number": 139
    },
    {
     "cell_type": "code",
     "collapsed": false,
     "input": [
      "plt.plot(vec)"
     ],
     "language": "python",
     "metadata": {},
     "outputs": [
      {
       "metadata": {},
       "output_type": "pyout",
       "prompt_number": 140,
       "text": [
        "[<matplotlib.lines.Line2D at 0x528ca10>]"
       ]
      },
      {
       "metadata": {},
       "output_type": "display_data",
       "png": "[encoded data removed]",
       "text": [
        "<matplotlib.figure.Figure at 0x620c8d0>"
       ]
      }
     ],
     "prompt_number": 140
    },
    {
     "cell_type": "markdown",
     "metadata": {},
     "source": [
      "Here we have done two basic quality control checks and confirmed that all nan's have been infilled and that the data looks to be the correct infliiing technique for each.\n",
      "\n",
      "Now we create a map reduce job which will compute the two vectors we need to make the covariance matrix."
     ]
    },
    {
     "cell_type": "code",
     "collapsed": false,
     "input": [
      "%%writefile mr_scripts/make_covar.py\n",
      "#!/usr/bin/python\n",
      "import sys\n",
      "sys.path.append('/usr/lib/python2.6/dist-packages')\n",
      "from mrjob.job import MRJob\n",
      "#Standard imports\n",
      "import pickle\n",
      "import pandas as pd\n",
      "import numpy as np\n",
      "import sklearn as sk\n",
      "import matplotlib.pyplot as plt\n",
      "from pandas.tools import rplot\n",
      "import re\n",
      "import zlib\n",
      "import base64 \n",
      "import traceback, os.path\n",
      "import itertools\n",
      "\n",
      "#Functions used for reading data/processing\n",
      "def loads(eVal):\n",
      "    return pickle.loads(zlib.decompress(base64.b64decode(eVal)))\n",
      "def dumps(Value):\n",
      "    return base64.b64encode(zlib.compress(pickle.dumps(Value),9))\n",
      "def exceptToString(e):\n",
      "    exc_type, exc_obj, exc_tb = sys.exc_info()\n",
      "    fname = os.path.split(exc_tb.tb_frame.f_code.co_filename)[0]\n",
      "    return str((exc_type, fname, exc_tb.tb_lineno))\n",
      "def infill(tmean,tmax,tmin,prcp,sndp):\n",
      "    eject = False\n",
      "    out = []\n",
      "    for temp in [tmean,tmax,tmin]:\n",
      "        temp=np.array(temp)\n",
      "        bad_indexes = np.isnan(temp)\n",
      "        good_indexes = np.logical_not(bad_indexes)\n",
      "        good_data = temp[good_indexes]\n",
      "        interpolated = np.interp(bad_indexes.nonzero()[0], good_indexes.nonzero()[0], good_data)\n",
      "        temp[bad_indexes] = interpolated\n",
      "        out.append(temp.tolist())\n",
      "    for data in [prcp,sndp]:\n",
      "        data = np.array(data)\n",
      "        bad_indexes = np.isnan(data)\n",
      "        data[bad_indexes] = 0\n",
      "        out.append(data.tolist())\n",
      "    return list(itertools.chain.from_iterable(out))\n",
      "\n",
      "nan = float(\"NaN\")\n",
      "def readDouble(x,z):\n",
      "    try:\n",
      "        y = float(x)\n",
      "    except ValueError:\n",
      "        try:\n",
      "            ##In this case, we have a non, probalby there is a flag here that needs to be removed\n",
      "            y = float(x.translate(None,'ABCDEFGHI*'))\n",
      "        except ValueError:\n",
      "            ##We want to print any bad values that get to here so we can analyze further\n",
      "            print(x)\n",
      "            return nan\n",
      "    #Missing data goes to nan\n",
      "    if abs(y-z) < 0.01:\n",
      "        return nan\n",
      "    return y\n",
      "\n",
      "pat = re.compile('\"(\\d*):(\\d\\d\\d\\d)\"\\t\"(.*)\"$')\n",
      "\n",
      "class MRWeather(MRJob):\n",
      "    def mapper(self, _, line):\n",
      "        try:\n",
      "            mat = pat.match(line.strip())\n",
      "            mat.groups()\n",
      "            station, year, vec = mat.groups()\n",
      "            year = int(year)\n",
      "            vec  = loads(vec)\n",
      "            tmax, tmin, tmean, prcp, sndp = vec[0:365],vec[365:2*365],vec[2*365:3*365],vec[3*365:4*365],vec[4*365:5*365]\n",
      "            tmax  = [readDouble(x,9999.9) for x in tmax]\n",
      "            tmin  = [readDouble(x,9999.9) for x in tmin]\n",
      "            tmean = [readDouble(x,9999.9) for x in tmean]\n",
      "            prcp  = [readDouble(x,99.99) for x in prcp]\n",
      "            sndp  = [readDouble(x,999.9) for x in sndp]\n",
      "            vec = np.matrix(infill(tmean,tmax,tmin,prcp,sndp))\n",
      "            outer = np.outer(vec,vec)\n",
      "            yield (\"ok\",(1,dumps(vec),dumps(outer)))\n",
      "        except Exception, e:\n",
      "            yield ((\"error\",\"m\",str(e),exceptToString(e)), 1)\n",
      "    \n",
      "    def combiner(self, key, data):\n",
      "        if key[0] == \"error\":\n",
      "            yield (key,sum(data))\n",
      "        else:\n",
      "            try:\n",
      "                n, vec, outer = data.next()\n",
      "                vec = loads(vec)\n",
      "                outer = loads(outer)\n",
      "                for np, vecp, outerp in data:\n",
      "                    n += np\n",
      "                    vec += loads(vecp)\n",
      "                    outer += loads(outerp)\n",
      "                yield (\"ok\",(n,dumps(vec),dumps(outer)))\n",
      "            except Exception, e:\n",
      "                yield ((\"error\",\"c\",exceptToString(e)), 1)\n",
      "    def reducer(self, key, data):\n",
      "        if key[0] == \"error\":\n",
      "            yield (key,sum(data))\n",
      "        else:\n",
      "            try:\n",
      "                n, vec, outer = data.next()\n",
      "                vec = loads(vec)\n",
      "                outer = loads(outer)\n",
      "                for np, vecp, outerp in data:\n",
      "                    n += np\n",
      "                    vec += loads(vecp)\n",
      "                    outer += loads(outerp)\n",
      "                yield (\"ok\",(n,dumps(vec),dumps(outer)))\n",
      "            except Exception, e:\n",
      "                yield ((\"error\",\"r\",exceptToString(e)), 1)\n",
      "if __name__ == '__main__':\n",
      "    MRWeather.run()"
     ],
     "language": "python",
     "metadata": {},
     "outputs": [
      {
       "output_type": "stream",
       "stream": "stdout",
       "text": [
        "Overwriting mr_scripts/make_covar.py\n"
       ]
      }
     ],
     "prompt_number": 189
    },
    {
     "cell_type": "markdown",
     "metadata": {},
     "source": [
      "First we run this on just 2 records to test/debug.  The final output is ~13MB, 1 line containing the data needed to make the final covariance matrix."
     ]
    },
    {
     "cell_type": "code",
     "collapsed": false,
     "input": [
      "!head -2 $local_data > tmp"
     ],
     "language": "python",
     "metadata": {},
     "outputs": [],
     "prompt_number": 190
    },
    {
     "cell_type": "code",
     "collapsed": false,
     "input": [
      "!python mr_scripts/make_covar.py tmp > mr_output/make_covar.small\n",
      "!cat mr_output/make_covar.small | grep \"error\""
     ],
     "language": "python",
     "metadata": {},
     "outputs": [
      {
       "output_type": "stream",
       "stream": "stdout",
       "text": [
        "using configs in /home/ubuntu/.mrjob.conf\r\n",
        "creating tmp directory /tmp/make_covar.ubuntu.20140605.094831.118277\r\n",
        "writing to /tmp/make_covar.ubuntu.20140605.094831.118277/step-0-mapper_part-00000\r\n"
       ]
      },
      {
       "output_type": "stream",
       "stream": "stdout",
       "text": [
        "Counters from step 1:\r\n",
        "  (no counters found)\r\n",
        "writing to /tmp/make_covar.ubuntu.20140605.094831.118277/step-0-mapper-sorted\r\n",
        "> sort /tmp/make_covar.ubuntu.20140605.094831.118277/step-0-mapper_part-00000\r\n"
       ]
      },
      {
       "output_type": "stream",
       "stream": "stdout",
       "text": [
        "writing to /tmp/make_covar.ubuntu.20140605.094831.118277/step-0-reducer_part-00000\r\n"
       ]
      },
      {
       "output_type": "stream",
       "stream": "stdout",
       "text": [
        "Counters from step 1:\r\n",
        "  (no counters found)\r\n",
        "Moving /tmp/make_covar.ubuntu.20140605.094831.118277/step-0-reducer_part-00000 -> /tmp/make_covar.ubuntu.20140605.094831.118277/output/part-00000\r\n",
        "Streaming final output from /tmp/make_covar.ubuntu.20140605.094831.118277/output\r\n",
        "removing tmp directory /tmp/make_covar.ubuntu.20140605.094831.118277\r\n"
       ]
      }
     ],
     "prompt_number": 191
    },
    {
     "cell_type": "markdown",
     "metadata": {},
     "source": [
      "Now that we have debugged, we run on the raw_256 file ~1500 station years into one covariance matrix.  "
     ]
    },
    {
     "cell_type": "code",
     "collapsed": false,
     "input": [
      "!python mr_scripts/make_covar.py -r local $local_data > mr_output/make_covar.raw_256\n",
      "!cat mr_output/make_covar.raw_256 | grep \"error\""
     ],
     "language": "python",
     "metadata": {},
     "outputs": [
      {
       "output_type": "stream",
       "stream": "stdout",
       "text": [
        "using configs in /home/ubuntu/.mrjob.conf\r\n",
        "creating tmp directory /tmp/make_covar.ubuntu.20140605.095230.037484\r\n"
       ]
      },
      {
       "output_type": "stream",
       "stream": "stdout",
       "text": [
        "writing to /tmp/make_covar.ubuntu.20140605.095230.037484/step-0-mapper_part-00000\r\n",
        "> /home/ubuntu/anaconda/bin/python make_covar.py --step-num=0 --mapper /tmp/make_covar.ubuntu.20140605.095230.037484/input_part-00000 | sort | /home/ubuntu/anaconda/bin/python make_covar.py --step-num=0 --combiner > /tmp/make_covar.ubuntu.20140605.095230.037484/step-0-mapper_part-00000\r\n"
       ]
      },
      {
       "output_type": "stream",
       "stream": "stdout",
       "text": [
        "writing to /tmp/make_covar.ubuntu.20140605.095230.037484/step-0-mapper_part-00001\r\n",
        "> /home/ubuntu/anaconda/bin/python make_covar.py --step-num=0 --mapper /tmp/make_covar.ubuntu.20140605.095230.037484/input_part-00001 | sort | /home/ubuntu/anaconda/bin/python make_covar.py --step-num=0 --combiner > /tmp/make_covar.ubuntu.20140605.095230.037484/step-0-mapper_part-00001\r\n"
       ]
      }
     ]
    },
    {
     "cell_type": "markdown",
     "metadata": {},
     "source": [
      "Now onto the whole large file"
     ]
    },
    {
     "cell_type": "code",
     "collapsed": false,
     "input": [],
     "language": "python",
     "metadata": {},
     "outputs": []
    }
   ],
   "metadata": {}
  }
 ]
}