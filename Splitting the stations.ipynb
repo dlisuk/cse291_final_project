{
 "metadata": {
  "name": "",
  "signature": "sha256:492a9525a97e774afa3e71dd5030214f85095c3083cbc4b50e930768f6b81285"
 },
 "nbformat": 3,
 "nbformat_minor": 0,
 "worksheets": [
  {
   "cells": [
    {
     "cell_type": "heading",
     "level": 1,
     "metadata": {},
     "source": [
      "Efficient spatial data structure for geolocated data"
     ]
    },
    {
     "cell_type": "code",
     "collapsed": false,
     "input": [],
     "language": "python",
     "metadata": {},
     "outputs": []
    }
   ],
   "metadata": {}
  }
 ]
}