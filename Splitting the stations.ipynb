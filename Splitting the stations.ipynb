{
 "metadata": {
  "name": "",
  "signature": "sha256:b490a54207e5dc76cfe340bf7b4f11734a424a327579944f362eb8637421bdc2"
 },
 "nbformat": 3,
 "nbformat_minor": 0,
 "worksheets": [
  {
   "cells": [
    {
     "cell_type": "code",
     "collapsed": false,
     "input": [
      "test"
     ],
     "language": "python",
     "metadata": {},
     "outputs": []
    }
   ],
   "metadata": {}
  }
 ]
}